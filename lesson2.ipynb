{
 "cells": [
  {
   "cell_type": "code",
   "execution_count": 6,
   "metadata": {
    "collapsed": false
   },
   "outputs": [
    {
     "name": "stdout",
     "output_type": "stream",
     "text": [
      "Qoo 3\n",
      "4\n",
      "0 John\n",
      "1 May\n",
      "2 David\n",
      "3 Marry\n",
      "4 Qoo\n"
     ]
    }
   ],
   "source": [
    "name = ['John', 'May', 'David', 'Marry', 'Qoo']\n",
    "age = [23,25,18,28,3]\n",
    "\n",
    "for idx, n in enumerate(name):\n",
    "    if n == 'Qoo':\n",
    "        print n, age[idx]\n",
    "        print idx\n",
    "        \n",
    "for idx, n in  enumerate(name):\n",
    "    print idx, n"
   ]
  },
  {
   "cell_type": "code",
   "execution_count": 13,
   "metadata": {
    "collapsed": false
   },
   "outputs": [
    {
     "name": "stdout",
     "output_type": "stream",
     "text": [
      "0 a 10\n",
      "1 b 20\n",
      "2 c 30\n",
      "3 d 40\n"
     ]
    }
   ],
   "source": [
    "name=['a','b','c','d']\n",
    "cod =[10,20,30,40]\n",
    "for idx, n in enumerate(name):\n",
    "    print idx , n , cod[idx]"
   ]
  },
  {
   "cell_type": "code",
   "execution_count": 21,
   "metadata": {
    "collapsed": false
   },
   "outputs": [
    {
     "name": "stdout",
     "output_type": "stream",
     "text": [
      "{'a': 100, 'c': 300, 'b': 200}\n",
      "{'a': 100, 'c': 300, 'b': 200, 'd': 400}\n",
      "100\n",
      "100\n",
      "None\n",
      "no this key\n"
     ]
    }
   ],
   "source": [
    "dic={'a':100,'b':200,'c':300}\n",
    "print dic\n",
    "dic['d']=400\n",
    "print dic\n",
    "print dic['a']\n",
    "print dic.get('a')\n",
    "print dic.get('e')\n",
    "print dic.get('e','no this key')"
   ]
  },
  {
   "cell_type": "code",
   "execution_count": 28,
   "metadata": {
    "collapsed": false
   },
   "outputs": [
    {
     "name": "stdout",
     "output_type": "stream",
     "text": [
      "[1, 2, 1, 1, 3, 4, 1, 2, 3, 6, 1, 2, 1, 3, 2, 1]\n",
      "[1, 1, 1, 1, 1, 1, 1, 2, 2, 2, 2, 3, 3, 3, 4, 6]\n",
      "1 7\n",
      "2 4\n",
      "3 3\n",
      "4 1\n",
      "6 1\n"
     ]
    }
   ],
   "source": [
    "a = [1,2,1,1,3,4,1,2,3,6,1,2,1,3,2,1]\n",
    "print a\n",
    "a.sort()\n",
    "print a\n",
    "\n",
    "current = 0 \n",
    "for ele in a:\n",
    "    if ele != current:\n",
    "        if current != 0 :\n",
    "            print current, cnt\n",
    "        current = ele\n",
    "        cnt = 1\n",
    "    else:\n",
    "        cnt +=1\n",
    "print current, cnt"
   ]
  },
  {
   "cell_type": "code",
   "execution_count": 39,
   "metadata": {
    "collapsed": false
   },
   "outputs": [
    {
     "name": "stdout",
     "output_type": "stream",
     "text": [
      "[1, 2, 3, 4, 5, 6]\n",
      "Error\n",
      "[1, 2, 3, 4, 5, 6]\n",
      "(1, 2, 3, 4, 5, 6)\n"
     ]
    }
   ],
   "source": [
    "a=[1,2,3,4,5]\n",
    "a.append(6)\n",
    "print a\n",
    "b=(1,2,3,4,5)\n",
    "#b.append(6)#Error\n",
    "print 'Error'\n",
    "#Cast b from tuple to list\n",
    "b=list(b)\n",
    "b.append(6)\n",
    "print b\n",
    "#Cast a from list to tuple\n",
    "a=tuple(a)\n",
    "print a\n"
   ]
  },
  {
   "cell_type": "code",
   "execution_count": 59,
   "metadata": {
    "collapsed": false
   },
   "outputs": [],
   "source": [
    "fid = open('test.txt','w')\n",
    "fid.write('Hello\\rWorld')\n",
    "fid.close()"
   ]
  },
  {
   "cell_type": "code",
   "execution_count": 60,
   "metadata": {
    "collapsed": false,
    "scrolled": true
   },
   "outputs": [
    {
     "name": "stdout",
     "output_type": "stream",
     "text": [
      "Hello\r",
      "World\n",
      "Line: Hello\r",
      "World\n"
     ]
    }
   ],
   "source": [
    "fid = open('test.txt', 'r')\n",
    "for line in fid: # Using file identifier as iterator\n",
    "    print line.strip()\n",
    "    print(\"Line: \" + line.strip()) \n",
    "fid.close()"
   ]
  },
  {
   "cell_type": "code",
   "execution_count": 58,
   "metadata": {
    "collapsed": false
   },
   "outputs": [
    {
     "name": "stdout",
     "output_type": "stream",
     "text": [
      "Hello\n",
      "\n",
      "Hello\n",
      "World\n",
      "World\n"
     ]
    }
   ],
   "source": [
    "fid= open('test.txt','r')\n",
    "for line in fid:\n",
    "    print line\n",
    "    print line.strip()\n",
    "fid.close()"
   ]
  },
  {
   "cell_type": "code",
   "execution_count": 61,
   "metadata": {
    "collapsed": false
   },
   "outputs": [
    {
     "name": "stdout",
     "output_type": "stream",
     "text": [
      "實戰Java ETL:1-資料蒐集、清理與剖析\n",
      "Java起步走: 8-JDBC連接存取資料庫\n",
      "Java起步走: 2-初探物件導向程式設計\n",
      "Data Mining:1-原理與關聯規則\n",
      "Data Mining應用-R語言初階\n",
      "資料庫設計原理:1-動手學ER Model設計\n",
      "MySQL:2-MySQL資料庫管理與設定\n",
      "MySQL:1-MySQL與SQL語法實作\n",
      "Java起步走: 3-進階物件導向觀念\n",
      "Java起步走: 1-Java基本程式設計 \n",
      "HTML5關鍵技術：1-發展與開發環境\n",
      "駕馭大數據: 8-大數據與機器學習 – 使用Mahout\n",
      "駕馭大數據: 7-簡簡單單做MapReduce – 使用Pig Latin\n",
      "駕馭大數據: 6-簡簡單單做 MapReduce – 使用Hive\n",
      "駕馭大數據: 5-將資料移到HDFS – 使用Sqoop & Flume\n",
      "駕馭大數據: 4-撰寫MapReduce 程式運算大數據問題\n",
      "駕馭大數據: 3-分散式檔案系統(HDFS) 操作\n",
      "駕馭大數據: 2-Hadoop Cluster 安裝與設定\n",
      "駕馭大數據: 1-Hadoop Ecosystem\n",
      "餐飲經營利潤管理\n",
      "電商創業與實務課程分享研討會\n",
      "零售門市績效管理高手\n",
      "零售門市管理技巧\n",
      "軟體版本控制與管理\n",
      "軟體版本分支建立與合併\n",
      "資料庫設計原理:2-動手學正規化處理\n",
      "視覺溝通技巧\n",
      "美國市場的電商經營\n",
      "經銷計畫撰寫專家\n",
      "簡報黃金比例\n",
      "目標設定 (Management By Objective)\n",
      "演說改造計畫\n",
      "楚漢相爭領導學9：EQ管理\n",
      "楚漢相爭領導學8：人力資源管理\n",
      "楚漢相爭領導學7：建立核心團隊\n",
      "楚漢相爭領導學6：火爆浪子 VS. 老謀深算\n",
      "楚漢相爭領導學5：危機管理\n",
      "楚漢相爭領導學4：累積自己的實力\n",
      "楚漢相爭領導學3：創造自己的舞台\n",
      "楚漢相爭領導學2：富二代與白手起家\n",
      "楚漢相爭領導學1：人才訓練\n",
      "楚漢相爭領導學10：反敗為勝\n",
      "敏捷軟體開發:3-myAgile 敏捷方法\n",
      "敏捷軟體開發:2-由溝通來帶動軟體開發\n",
      "敏捷軟體開發:1-重視溝通的敏捷新文化\n",
      "提案企劃撰寫\n",
      "專案品質管理\n",
      "實戰Java ETL:2-資料儲存、分析與圖形化\n",
      "動態競爭策略模擬\n",
      "創意思考達人\n",
      "公司財務輕鬆管\n",
      "中國市場的電商經營\n",
      "Struts 2 Framework: 4-標籤函式庫應用\n",
      "Struts 2 Framework: 3-國際化、攔截器應用\n",
      "Struts 2 Framework: 2-型態轉換、輸入驗證、業務資料傳遞\n",
      "Struts 2 Framework: 1-初探\n",
      "MySQL:3-MySQL預儲程式設計\n",
      "MongoDB:2-實戰應用MongoDB\n",
      "MongoDB:1-快速建構MongoDB\n",
      "Mobile Web 行動網頁最佳化\n",
      "jQuery 好好玩：讓網頁動起來！\n",
      "Java起步走: 7-多重執行緒\n",
      "Java起步走: 6-Collection與資料結構 \n",
      "Java起步走: 5-檔案輸入輸出機制\n",
      "Java起步走: 4-例外異常處理機制\n",
      "JavaScript網站達人必修 : 4- 程式進階\n",
      "JavaScript網站達人必修 : 3-事件驅動\n",
      "JavaScript網站達人必修 : 2-程式邏輯\n",
      "JavaScript網站達人必修 : 1-資料處理\n",
      "Java web 應用程式- 深入Servlet\n",
      "HTML5關鍵技術：2-互動實作\n",
      "HTML5關鍵技術 : 3-整合案例\n",
      "HBase:2-HBase 核心架構與設計\n",
      "HBase:1-驅動大數據資料庫HBase\n",
      "Data Mining應用-R語言圖形化與資料轉換\n",
      "Data Mining:3-聚類概念\n",
      "Data Mining:2-分類概念\n",
      "CSS3 酷炫網頁樣式應用：2-遮罩與動畫\n",
      "CSS3 酷炫網頁樣式應用：1-邊框與圖片特效\n",
      "Android 網路服務與應用 - 資料接收與傳送\n",
      "Android 界面元件設計\n",
      "Android 專案環境建立與管理\n",
      "Android 內建裝置 2 -Google地圖與各式感應器\n",
      "Android 內建裝置 1 -資料存取與多媒體\n",
      "Ajax 互動網頁開發\n"
     ]
    },
    {
     "name": "stderr",
     "output_type": "stream",
     "text": [
      "c:\\python27\\lib\\site-packages\\bs4\\__init__.py:166: UserWarning: No parser was explicitly specified, so I'm using the best available HTML parser for this system (\"html.parser\"). This usually isn't a problem, but if you run this code on another system, or in a different virtual environment, it may use a different parser and behave differently.\n",
      "\n",
      "To get rid of this warning, change this:\n",
      "\n",
      " BeautifulSoup([your markup])\n",
      "\n",
      "to this:\n",
      "\n",
      " BeautifulSoup([your markup], \"html.parser\")\n",
      "\n",
      "  markup_type=markup_type))\n"
     ]
    }
   ],
   "source": [
    "import requests\n",
    "from bs4 import BeautifulSoup as bs\n",
    "\n",
    "headers = {\n",
    "'Cookie':'JSESSIONID=BzbWVyJHKlL4JpC1nHytsZvZtdX6LjKnfLPGvrT7kVp2gQf7vPJp!583742425; _gat_UA-53361606-2=1; _gat=1; _ga=GA1.2.159087734.1433639647; CC_HOST=Tbapp1; CC_CAMPUSID=20000; CC_UDOMAIN=30000083720',\n",
    "'User-Agent':'Mozilla/5.0 (Macintosh; Intel Mac OS X 10_10_0) AppleWebKit/537.36 (KHTML, like Gecko) Chrome/45.0.2454.85 Safari/537.36'\n",
    "}\n",
    "payload= {\n",
    "'PAGE_PREFIX':'login.LoginEntry',\n",
    "'FW_PARAMS':'login.LoginEntry.campusId=20000&login.LoginEntry.whatPwd=true&login.LoginEntry.cx=22.20000&login.LoginEntry.cmd=signup&login.LoginEntry.userName=michael.lir@totalbb.net.tw&login.LoginEntry.password=zb103103',\n",
    "'campusId':'20000',\n",
    "'whatPwd':'true',\n",
    "'cx':'22.20000',\n",
    "'cmd':'signup',\n",
    "'userName':'michael.lir@totalbb.net.tw',\n",
    "'password':'zb103103'\n",
    "}\n",
    "rs = requests.session()\n",
    "res = rs.post('https://www.tibame.com/PageServlet?pg=login&pfx=login.LoginEntry&tg=LoginEntry&cmd=SignIn', data = payload, headers = headers)\n",
    "#print res.text\n",
    "res2 = rs.get('https://www.tibame.com/PageServlet?pg=my_cruiser&tg=MyCruiser&cx=22.20000-1.30000076124', headers = headers)\n",
    "#print res2.text\n",
    "res3 = rs.get('https://www.tibame.com/q?pg=dashboard-myCourseIframe&cx=u&sortBy=lastAccessTime', headers = headers)\n",
    "soup = bs(res3.text)\n",
    "for item in soup.select('.xcGItem'):\n",
    "    print item.select('a')[1].text"
   ]
  },
  {
   "cell_type": "code",
   "execution_count": 94,
   "metadata": {
    "collapsed": false
   },
   "outputs": [
    {
     "name": "stdout",
     "output_type": "stream",
     "text": [
      "atrk.gif?account=1Nevh1aYY900M9\n",
      "gwqavAO.png\n",
      "gift.png\n",
      "loading.gif\n",
      "loginSafety.png\n",
      "pn_post.png\n",
      "6f839140ebdafa70870bfc503dbb731d.jpg\n",
      "4d53270002386b5dfd6e72d8cf5fbf0e.jpg\n",
      "d54de12c94cfcf06591e261a6442f535.jpg\n",
      "9d9d845d3b7d9e715385ecc6fbaf7989.jpg\n",
      "7c9dc81f7e75007339bb6c7585e4227b.jpg\n",
      "17caf031114b51b8bd455063153fccfe.jpg\n",
      "hot_3.gif\n",
      "userinfo.gif\n",
      "41_avatar_small.jpg\n",
      "bump.small.gif\n",
      "highlight.small.gif\n",
      "jack.small.gif\n"
     ]
    },
    {
     "ename": "TypeError",
     "evalue": "argument of type 'NoneType' is not iterable",
     "output_type": "error",
     "traceback": [
      "\u001b[1;31m---------------------------------------------------------------------------\u001b[0m",
      "\u001b[1;31mTypeError\u001b[0m                                 Traceback (most recent call last)",
      "\u001b[1;32m<ipython-input-94-fb9a2f842e1f>\u001b[0m in \u001b[0;36m<module>\u001b[1;34m()\u001b[0m\n\u001b[0;32m      6\u001b[0m \u001b[1;31m# print soup\u001b[0m\u001b[1;33m\u001b[0m\u001b[1;33m\u001b[0m\u001b[0m\n\u001b[0;32m      7\u001b[0m \u001b[1;32mfor\u001b[0m \u001b[0mimg\u001b[0m \u001b[1;32min\u001b[0m \u001b[0msoup\u001b[0m\u001b[1;33m.\u001b[0m\u001b[0mselect\u001b[0m\u001b[1;33m(\u001b[0m\u001b[1;34m'img'\u001b[0m\u001b[1;33m)\u001b[0m\u001b[1;33m:\u001b[0m\u001b[1;33m\u001b[0m\u001b[0m\n\u001b[1;32m----> 8\u001b[1;33m     \u001b[1;32mif\u001b[0m \u001b[1;34m'png'\u001b[0m \u001b[1;32min\u001b[0m \u001b[0mimg\u001b[0m\u001b[1;33m.\u001b[0m\u001b[0mget\u001b[0m\u001b[1;33m(\u001b[0m\u001b[1;34m'src'\u001b[0m\u001b[1;33m)\u001b[0m \u001b[1;32mor\u001b[0m \u001b[1;34m'jpg'\u001b[0m \u001b[1;32min\u001b[0m \u001b[0mimg\u001b[0m\u001b[1;33m.\u001b[0m\u001b[0mget\u001b[0m\u001b[1;33m(\u001b[0m\u001b[1;34m'src'\u001b[0m\u001b[1;33m)\u001b[0m \u001b[1;32mor\u001b[0m \u001b[1;34m'gif'\u001b[0m \u001b[1;32min\u001b[0m \u001b[0mimg\u001b[0m\u001b[1;33m.\u001b[0m\u001b[0mget\u001b[0m\u001b[1;33m(\u001b[0m\u001b[1;34m'src'\u001b[0m\u001b[1;33m)\u001b[0m\u001b[1;33m:\u001b[0m\u001b[1;33m\u001b[0m\u001b[0m\n\u001b[0m\u001b[0;32m      9\u001b[0m         \u001b[1;32mprint\u001b[0m \u001b[0mimg\u001b[0m\u001b[1;33m.\u001b[0m\u001b[0mget\u001b[0m\u001b[1;33m(\u001b[0m\u001b[1;34m'src'\u001b[0m\u001b[1;33m)\u001b[0m\u001b[1;33m.\u001b[0m\u001b[0msplit\u001b[0m\u001b[1;33m(\u001b[0m\u001b[1;34m'/'\u001b[0m\u001b[1;33m)\u001b[0m\u001b[1;33m[\u001b[0m\u001b[1;33m-\u001b[0m\u001b[1;36m1\u001b[0m\u001b[1;33m]\u001b[0m\u001b[1;33m\u001b[0m\u001b[0m\n\u001b[0;32m     10\u001b[0m     \u001b[1;32melse\u001b[0m\u001b[1;33m:\u001b[0m\u001b[1;33m\u001b[0m\u001b[0m\n",
      "\u001b[1;31mTypeError\u001b[0m: argument of type 'NoneType' is not iterable"
     ]
    }
   ],
   "source": [
    "import requests\n",
    "from bs4 import BeautifulSoup as bs\n",
    "headers = {'User-Agent':'Mozilla/5.0 (Windows NT 6.1; WOW64) AppleWebKit/537.36 (KHTML, like Gecko) Chrome/45.0.2454.85 Safari/537.36'}\n",
    "res = requests.get('http://ck101.com/thread-3304954-1-1.html',headers = headers)\n",
    "soup = bs(res.text)\n",
    "# print soup\n",
    "for img in soup.select('img'):\n",
    "    if 'png' in img.get('src') or 'jpg' in img.get('src') or 'gif' in img.get('src'):\n",
    "        print img.get('src').split('/')[-1]\n",
    "    else:\n",
    "        continue"
   ]
  },
  {
   "cell_type": "code",
   "execution_count": 91,
   "metadata": {
    "collapsed": false
   },
   "outputs": [],
   "source": [
    "# import requests\n",
    "# from bs4 import BeautifulSoup as bs \n",
    "\n",
    "# headers  = {'User-Agent':'Mozilla/5.0 (Windows NT 6.1; WOW64) AppleWebKit/537.36 (KHTML, like Gecko) Chrome/44.0.2403.262 Safari/537.36'}\n",
    "# res = requests.get('http://ck101.com/thread-3304954-1-1.html', headers = headers)\n",
    "# soup = bs(res.text)\n",
    "# for img in soup.select('img'):\n",
    "#     if 'png' in img.get('src') or 'jpg' in img.get('src') or 'gif' in img.get('src'):\n",
    "#         print img.get('src').split('/')[-1]"
   ]
  },
  {
   "cell_type": "code",
   "execution_count": 97,
   "metadata": {
    "collapsed": false
   },
   "outputs": [
    {
     "name": "stdout",
     "output_type": "stream",
     "text": [
      "atrk.gif?account=1Nevh1aYY900M9\n",
      "gwqavAO.png\n",
      "gift.png\n",
      "loading.gif\n",
      "loginSafety.png\n",
      "pn_post.png\n",
      "6f839140ebdafa70870bfc503dbb731d.jpg\n",
      "4d53270002386b5dfd6e72d8cf5fbf0e.jpg\n",
      "d54de12c94cfcf06591e261a6442f535.jpg\n",
      "9d9d845d3b7d9e715385ecc6fbaf7989.jpg\n",
      "7c9dc81f7e75007339bb6c7585e4227b.jpg\n",
      "17caf031114b51b8bd455063153fccfe.jpg\n",
      "recommend_1.gif\n",
      "hot_3.gif\n",
      "userinfo.gif\n",
      "41_avatar_small.jpg\n",
      "bump.small.gif\n",
      "highlight.small.gif\n",
      "jack.small.gif\n"
     ]
    },
    {
     "ename": "TypeError",
     "evalue": "argument of type 'NoneType' is not iterable",
     "output_type": "error",
     "traceback": [
      "\u001b[1;31m---------------------------------------------------------------------------\u001b[0m",
      "\u001b[1;31mTypeError\u001b[0m                                 Traceback (most recent call last)",
      "\u001b[1;32m<ipython-input-97-2eb37738c7ac>\u001b[0m in \u001b[0;36m<module>\u001b[1;34m()\u001b[0m\n\u001b[0;32m      6\u001b[0m \u001b[1;31m#print soup\u001b[0m\u001b[1;33m\u001b[0m\u001b[1;33m\u001b[0m\u001b[0m\n\u001b[0;32m      7\u001b[0m \u001b[1;32mfor\u001b[0m \u001b[0mimg\u001b[0m \u001b[1;32min\u001b[0m \u001b[0msoup\u001b[0m\u001b[1;33m.\u001b[0m\u001b[0mselect\u001b[0m\u001b[1;33m(\u001b[0m\u001b[1;34m'img'\u001b[0m\u001b[1;33m)\u001b[0m\u001b[1;33m:\u001b[0m\u001b[1;33m\u001b[0m\u001b[0m\n\u001b[1;32m----> 8\u001b[1;33m     \u001b[1;32mif\u001b[0m \u001b[1;34m'png'\u001b[0m \u001b[1;32min\u001b[0m \u001b[0mimg\u001b[0m\u001b[1;33m.\u001b[0m\u001b[0mget\u001b[0m\u001b[1;33m(\u001b[0m\u001b[1;34m'src'\u001b[0m\u001b[1;33m)\u001b[0m \u001b[1;32mor\u001b[0m \u001b[1;34m'jpg'\u001b[0m \u001b[1;32min\u001b[0m \u001b[0mimg\u001b[0m\u001b[1;33m.\u001b[0m\u001b[0mget\u001b[0m\u001b[1;33m(\u001b[0m\u001b[1;34m'src'\u001b[0m\u001b[1;33m)\u001b[0m \u001b[1;32mor\u001b[0m \u001b[1;34m'gif'\u001b[0m \u001b[1;32min\u001b[0m \u001b[0mimg\u001b[0m\u001b[1;33m.\u001b[0m\u001b[0mget\u001b[0m\u001b[1;33m(\u001b[0m\u001b[1;34m'src'\u001b[0m\u001b[1;33m)\u001b[0m\u001b[1;33m:\u001b[0m\u001b[1;33m\u001b[0m\u001b[0m\n\u001b[0m\u001b[0;32m      9\u001b[0m         \u001b[1;32mprint\u001b[0m \u001b[0mimg\u001b[0m\u001b[1;33m.\u001b[0m\u001b[0mget\u001b[0m\u001b[1;33m(\u001b[0m\u001b[1;34m'src'\u001b[0m\u001b[1;33m)\u001b[0m\u001b[1;33m.\u001b[0m\u001b[0msplit\u001b[0m\u001b[1;33m(\u001b[0m\u001b[1;34m'/'\u001b[0m\u001b[1;33m)\u001b[0m\u001b[1;33m[\u001b[0m\u001b[1;33m-\u001b[0m\u001b[1;36m1\u001b[0m\u001b[1;33m]\u001b[0m\u001b[1;33m\u001b[0m\u001b[0m\n",
      "\u001b[1;31mTypeError\u001b[0m: argument of type 'NoneType' is not iterable"
     ]
    }
   ],
   "source": [
    "import requests\n",
    "from bs4 import BeautifulSoup as bs\n",
    "headers = {'User-Agent':'Mozilla/5.0 (Windows NT 6.1; WOW64) AppleWebKit/537.36 (KHTML, like Gecko) Chrome/45.0.2454.85 Safari/537.36'}\n",
    "res = requests.get('http://ck101.com/thread-3298755-1-1.html?ref=ext-cont-01',headers = headers)\n",
    "soup = bs(res.text)\n",
    "#print soup\n",
    "for img in soup.select('img'):\n",
    "    if 'png' in img.get('src') or 'jpg' in img.get('src') or 'gif' in img.get('src'):\n",
    "        print img.get('src').split('/')[-1]"
   ]
  },
  {
   "cell_type": "code",
   "execution_count": null,
   "metadata": {
    "collapsed": true
   },
   "outputs": [],
   "source": []
  },
  {
   "cell_type": "code",
   "execution_count": null,
   "metadata": {
    "collapsed": true
   },
   "outputs": [],
   "source": []
  }
 ],
 "metadata": {
  "kernelspec": {
   "display_name": "Python 2",
   "language": "python",
   "name": "python2"
  },
  "language_info": {
   "codemirror_mode": {
    "name": "ipython",
    "version": 2
   },
   "file_extension": ".py",
   "mimetype": "text/x-python",
   "name": "python",
   "nbconvert_exporter": "python",
   "pygments_lexer": "ipython2",
   "version": "2.7.10"
  }
 },
 "nbformat": 4,
 "nbformat_minor": 0
}
