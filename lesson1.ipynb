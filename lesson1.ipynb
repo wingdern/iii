{
 "cells": [
  {
   "cell_type": "code",
   "execution_count": 18,
   "metadata": {
    "collapsed": false
   },
   "outputs": [
    {
     "name": "stdout",
     "output_type": "stream",
     "text": [
      "Help on built-in function exit in module sys:\n",
      "\n",
      "exit(...)\n",
      "    exit([status])\n",
      "    \n",
      "    Exit the interpreter by raising SystemExit(status).\n",
      "    If the status is omitted or None, it defaults to zero (i.e., success).\n",
      "    If the status is an integer, it will be used as the system exit status.\n",
      "    If it is another kind of object, it will be printed and the system\n",
      "    exit status will be one (i.e., failure).\n",
      "\n"
     ]
    }
   ],
   "source": [
    "# import sys\n",
    "# help(sys)\n",
    "# ?sys\n",
    "# ?requests\n",
    "# dir(sys)\n",
    "# dir(requests)\n",
    "# help(sys.exit)"
   ]
  },
  {
   "cell_type": "code",
   "execution_count": 23,
   "metadata": {
    "collapsed": false
   },
   "outputs": [
    {
     "name": "stdout",
     "output_type": "stream",
     "text": [
      "how are you ?'good'\n"
     ]
    },
    {
     "data": {
      "text/plain": [
       "'good'"
      ]
     },
     "execution_count": 23,
     "metadata": {},
     "output_type": "execute_result"
    }
   ],
   "source": [
    "input('how are you ?')"
   ]
  },
  {
   "cell_type": "code",
   "execution_count": 25,
   "metadata": {
    "collapsed": false
   },
   "outputs": [
    {
     "name": "stdout",
     "output_type": "stream",
     "text": [
      "How are you?good\n"
     ]
    }
   ],
   "source": [
    "answer = raw_input(\"How are you?\")"
   ]
  },
  {
   "cell_type": "code",
   "execution_count": 37,
   "metadata": {
    "collapsed": false
   },
   "outputs": [
    {
     "name": "stdout",
     "output_type": "stream",
     "text": [
      "what's your name?dude...\n",
      "Oh~ok...\n"
     ]
    }
   ],
   "source": [
    "name=raw_input(\"what's your name?dude...\")\n",
    "if name=='peter':\n",
    "    print'what a perfect name '+name\n",
    "elif name ==\"\" :\n",
    "    print 'Oh~ok...'\n",
    "else:\n",
    "    print ' that sounds seemiliar,I must heard you somewhere'"
   ]
  },
  {
   "cell_type": "code",
   "execution_count": 49,
   "metadata": {
    "collapsed": false
   },
   "outputs": [
    {
     "name": "stdout",
     "output_type": "stream",
     "text": [
      "your name?22\n",
      "and how old are you?33\n",
      "My name is 22 ans I am 44 years old\n"
     ]
    }
   ],
   "source": [
    "name =raw_input(\"your name?\")\n",
    "age =raw_input(\"and how old are you?\")\n",
    "##1.\n",
    "# print 'v name is '+name+' and I am '+age+' years old'\n",
    "##2.\n",
    "#print 'My name is {} and I am {} years old'.format(name,age)\n",
    "##.format(name,age)記得用()\n",
    "##3. \n",
    "#print 'My name is {0} and I am {1}-years old'.format(name,age)\n",
    "#print 'My name is {1} and I am {0}-years old'.format(name,age)\n",
    "##4. \n",
    "# print 'My name is %s ans I am %d years old'%(name,int(age))\n"
   ]
  },
  {
   "cell_type": "code",
   "execution_count": 53,
   "metadata": {
    "collapsed": false
   },
   "outputs": [],
   "source": [
    "#print 'http://www.ettoday.net/news/20150907/561035.htm/{}'.format(1)\n",
    "#print 'https://tw.fashion.yahoo.com/photos/%E8%A6%AA%E5%AD%90%E6%B2%99%E7%81%98look-slideshow/%E8%A6%AA%E5%AD%90%E6%B2%99%E7%81%98look-photo-1438144777755.html#0909ma/%s'%('1')\n",
    "#網址在轉換的過程中會不知道要轉哪一個%變成1,所以此方發儘量少用"
   ]
  },
  {
   "cell_type": "code",
   "execution_count": 65,
   "metadata": {
    "collapsed": false
   },
   "outputs": [
    {
     "name": "stdout",
     "output_type": "stream",
     "text": [
      "0\n",
      "<type 'int'>\n",
      "1.12\n",
      "<type 'float'>\n",
      "0.892857142857\n",
      "<type 'float'>\n"
     ]
    }
   ],
   "source": [
    "a=3\n",
    "b=5\n",
    "c=5.6\n",
    "d=4.4\n",
    "print a/b\n",
    "print type(a/b)#打成3.0或5.0或轉換型態\n",
    "print c/b\n",
    "print type(c/b)\n",
    "print b/c\n",
    "print type(b/c)"
   ]
  },
  {
   "cell_type": "code",
   "execution_count": 68,
   "metadata": {
    "collapsed": false
   },
   "outputs": [
    {
     "name": "stdout",
     "output_type": "stream",
     "text": [
      "0.0\n",
      "0.666666666667\n",
      "0.666666666667\n",
      "0.666666666667\n"
     ]
    }
   ],
   "source": [
    "print float(2/3)\n",
    "print float(2)/3\n",
    "print 2/float(3)\n",
    "print 2.0/3"
   ]
  },
  {
   "cell_type": "code",
   "execution_count": 76,
   "metadata": {
    "collapsed": false
   },
   "outputs": [
    {
     "name": "stdout",
     "output_type": "stream",
     "text": [
      "qooqooqoo\n",
      "insert a number6\n",
      "*\n",
      "**\n",
      "***\n",
      "****\n",
      "*****\n",
      "******\n"
     ]
    }
   ],
   "source": [
    "print 'qoo '*3\n",
    "times=raw_input('insert a number')\n",
    "for i in range(1,int(times)+1):\n",
    "    print '*'*i\n",
    "#RAW_INPUT的輸入會被看成String,所以要記得轉換型態"
   ]
  },
  {
   "cell_type": "code",
   "execution_count": 89,
   "metadata": {
    "collapsed": false
   },
   "outputs": [
    {
     "name": "stdout",
     "output_type": "stream",
     "text": [
      "3 divided by 0  => integer division or modulo by zero\n"
     ]
    }
   ],
   "source": [
    "#3/0\n",
    "#=>\n",
    "try: \n",
    "    3/0\n",
    "except ZeroDivisionError as detail:\n",
    "    print '3 divided by 0  =>',detail"
   ]
  },
  {
   "cell_type": "code",
   "execution_count": 102,
   "metadata": {
    "collapsed": false
   },
   "outputs": [
    {
     "name": "stdout",
     "output_type": "stream",
     "text": [
      "divided:3\n",
      "divisor:\n",
      "3  could not convert string to float: \n"
     ]
    }
   ],
   "source": [
    "divided=raw_input('divided:')\n",
    "dividsor=raw_input('divisor:')\n",
    "try:\n",
    "    print float(divided)/float(dividsor)\n",
    "except ZeroDivisionError as detail:\n",
    "    print '1 ',detail\n",
    "except TypeError as detail:\n",
    "    print '2 ',detail\n",
    "except ValueError as detail:\n",
    "    print '3 ',detail"
   ]
  },
  {
   "cell_type": "code",
   "execution_count": 111,
   "metadata": {
    "collapsed": false
   },
   "outputs": [
    {
     "name": "stdout",
     "output_type": "stream",
     "text": [
      "this is a \"   book   \"\n",
      "this is a '   book   '\n",
      "this\n",
      "is \n",
      "a \n",
      "book\n",
      "\n"
     ]
    }
   ],
   "source": [
    "print 'this is a \"   bo\\\n",
    "ok   \"'\n",
    "print \"this is a '   book   '\"\n",
    "a='''this\n",
    "is \n",
    "a \n",
    "book\n",
    "'''\n",
    "print a\n",
    "#=>wrong  print \"this is a \"book\" \""
   ]
  },
  {
   "cell_type": "code",
   "execution_count": 2,
   "metadata": {
    "collapsed": false
   },
   "outputs": [],
   "source": [
    "# import os\n",
    "# ?os.listdir\n",
    "#?????????????????????????????????????????????????????????????????????\n",
    "#?????????????????????????????????????????????????????????????????????\n",
    "#?????????????????????????????????????????????????????????????????????\n",
    "#?????????????????????????????????????????????????????????????????????\n",
    "#?????????????????????????????????????????????????????????????????????"
   ]
  },
  {
   "cell_type": "code",
   "execution_count": 126,
   "metadata": {
    "collapsed": false
   },
   "outputs": [],
   "source": [
    "import sys\n",
    "for f in os.listdir('../'):\n",
    "    if f[0] == '.':\n",
    "        print f\n",
    "#?????????????????????????????????????????????????????????????????????\n",
    "#?????????????????????????????????????????????????????????????????????\n",
    "#?????????????????????????????????????????????????????????????????????\n",
    "#?????????????????????????????????????????????????????????????????????\n",
    "#?????????????????????????????????????????????????????????????????????"
   ]
  },
  {
   "cell_type": "code",
   "execution_count": 5,
   "metadata": {
    "collapsed": false
   },
   "outputs": [
    {
     "name": "stdout",
     "output_type": "stream",
     "text": [
      "\\n\\t this is a \\t line with format \\t\\n\n",
      "\n",
      "\t this is a \t line with format \t\n",
      "\n",
      "'\\n\\t this is a \\t line with format \\t\\n'\n",
      "\n",
      " \"\t\" \n",
      "\n"
     ]
    }
   ],
   "source": [
    "raw1 = r'\\n\\t this is a \\t line with format \\t\\n'\n",
    "print raw1 \n",
    "raw2 = '\\n\\t this is a \\t line with format \\t\\n'\n",
    "print raw2 \n",
    "print repr(raw2)\n",
    "#只要一部分?\n",
    "raw= '\\n \"\\t\" \\n'\n",
    "print raw"
   ]
  },
  {
   "cell_type": "code",
   "execution_count": 60,
   "metadata": {
    "collapsed": false
   },
   "outputs": [
    {
     "name": "stdout",
     "output_type": "stream",
     "text": [
      "['EVERY', 'ONE', 'goes', 'there!!']\n",
      "EVERY ONE GOES THERE!!\n",
      "['EVERY', 'ONE', 'GOES', 'THERE!!']\n",
      "Hi Everybody\n",
      "['__add__', '__class__', '__contains__', '__delattr__', '__doc__', '__eq__', '__format__', '__ge__', '__getattribute__', '__getitem__', '__getnewargs__', '__getslice__', '__gt__', '__hash__', '__init__', '__le__', '__len__', '__lt__', '__mod__', '__mul__', '__ne__', '__new__', '__reduce__', '__reduce_ex__', '__repr__', '__rmod__', '__rmul__', '__setattr__', '__sizeof__', '__str__', '__subclasshook__', '_formatter_field_name_split', '_formatter_parser', 'capitalize', 'center', 'count', 'decode', 'encode', 'endswith', 'expandtabs', 'find', 'format', 'index', 'isalnum', 'isalpha', 'isdigit', 'islower', 'isspace', 'istitle', 'isupper', 'join', 'ljust', 'lower', 'lstrip', 'partition', 'replace', 'rfind', 'rindex', 'rjust', 'rpartition', 'rsplit', 'rstrip', 'split', 'splitlines', 'startswith', 'strip', 'swapcase', 'title', 'translate', 'upper', 'zfill']\n",
      "..............................\n",
      "['__add__', '__class__', '__contains__', '__delattr__', '__doc__', '__eq__', '__format__', '__ge__', '__getattribute__', '__getitem__', '__getnewargs__', '__getslice__', '__gt__', '__hash__', '__init__', '__le__', '__len__', '__lt__', '__mod__', '__mul__', '__ne__', '__new__', '__reduce__', '__reduce_ex__', '__repr__', '__rmod__', '__rmul__', '__setattr__', '__sizeof__', '__str__', '__subclasshook__', '_formatter_field_name_split', '_formatter_parser', 'capitalize', 'center', 'count', 'decode', 'encode', 'endswith', 'expandtabs', 'find', 'format', 'index', 'isalnum', 'isalpha', 'isdigit', 'islower', 'isspace', 'istitle', 'isupper', 'join', 'ljust', 'lower', 'lstrip', 'partition', 'replace', 'rfind', 'rindex', 'rjust', 'rpartition', 'rsplit', 'rstrip', 'split', 'splitlines', 'startswith', 'strip', 'swapcase', 'title', 'translate', 'upper', 'zfill']\n"
     ]
    }
   ],
   "source": [
    "a=\"EVERY ONE goes there!!\"\n",
    "print a.split()\n",
    "print a.upper()\n",
    "print a.upper().split()\n",
    "b=\"hi everybody\"\n",
    "print b.title()\n",
    "print dir(a)\n",
    "print \"..............................\"\n",
    "print dir(str)"
   ]
  },
  {
   "cell_type": "code",
   "execution_count": 20,
   "metadata": {
    "collapsed": false
   },
   "outputs": [
    {
     "name": "stdout",
     "output_type": "stream",
     "text": [
      "True\n",
      "False\n"
     ]
    }
   ],
   "source": [
    "a=\"351\"\n",
    "print a.isdigit()\n",
    "b=\"what happen?\"\n",
    "print b.isdigit()"
   ]
  },
  {
   "cell_type": "code",
   "execution_count": 22,
   "metadata": {
    "collapsed": true
   },
   "outputs": [],
   "source": [
    "#??????????????????????????\n",
    "#??????????????????????????\n",
    "#??????????????????????????\n",
    "#??????????????????????????\n",
    "#??????????????????????????\n",
    "import os\n",
    "for f in os.listdir('../'):\n",
    "    if f.split('.')[-1] == 'txt':\n",
    "        print f       "
   ]
  },
  {
   "cell_type": "code",
   "execution_count": 23,
   "metadata": {
    "collapsed": false
   },
   "outputs": [
    {
     "name": "stdout",
     "output_type": "stream",
     "text": [
      "atrk.gif?account=1Nevh1aYY900M9\n",
      "gwqavAO.png\n",
      "gift.png\n",
      "loading.gif\n",
      "loginSafety.png\n",
      "HvgIz7T.jpg\n",
      "Es2bPUG.jpg\n",
      "hsTwBsW.jpg\n",
      "0f4Ecge.jpg\n",
      "8fdNFjJ.jpg\n",
      "8f34b6a8b65b4bbfc53f91c59df4d81c.jpg\n",
      "c41622adf98b5577375f4f77c0a8a97a.jpg\n",
      "Fvv6Tkt.jpg\n",
      "b9f6a5221b3abbeeea23c0e87a6e3256.jpg\n",
      "0ff9187b9fd6789b57e8f230ca2c7611.jpg\n",
      "a0655f62b0f137c8db8704e7c6250fb8.jpg\n",
      "TllQLDo.jpg\n",
      "e0e9165f2e054e3dd167fbef86e86dd9.jpg\n",
      "533ba123172ee312706c67f67a942f41.jpg\n",
      "1320c12713a6318cfca7dda26c97d5d0.jpg\n",
      "e29b33bdd8eb6838097847a75d24390e.jpg\n",
      "f4bccc43dc8f53b33d079cb09663dc6a.jpg\n",
      "f3337d40062a19758922e37d4294a937.jpg\n",
      "82cb0b2badd932563fce2df0359337ee.jpg\n",
      "a0650406cf297d16f9fdebdabac8253f.jpg\n",
      "7e7be0894eab706ef8b4406da7861c6c.jpg\n",
      "d94b03189bd5a837b32dc28083605cdb.jpg\n",
      "af04b0d86aa66e69b66a8ff022ba84a0.jpg\n",
      "6bd03a045b1ab85f3210155dd51e0a16.jpg\n",
      "874b734cd73d89f345eed0650b560225.jpg\n",
      "42f3094bb9b740dabc6b5da62590553d.jpg\n",
      "2b09adbbdb5cd4cc55e5d2be25f2d378.jpg\n",
      "f2961c218035cca43dd39f5f63c83c41.jpg\n",
      "c6896ad8e6eb7c702894ebd8b1ed9113.jpg\n",
      "ff388f56975dae47645aec675c96c653.jpg\n",
      "3ad2a25a33a30c23c3aeaa1a8584eeab.jpg\n",
      "7fe8cc9d53bbd826038d650d78549a7e.jpg\n",
      "4e42438d98be8734a8d5d3610b7eb270.jpg\n",
      "dbd6cd23a706ccda8b118931df219157.jpg\n",
      "680e11c9faf75337faeff63f8e3d6e4b.jpg\n",
      "e423bbf0dda4eb2df28b3faff168177d.jpg\n",
      "6ac93c3a074975a563212fce56f856ed.jpg\n",
      "c4c31b1b9418088d18203936259c83c1.jpg\n",
      "a41ce17751ca1ba781690a5db07d10ff.jpg\n",
      "b785f2996cc7c69b7cb1490a5e911de7.jpg\n",
      "ff5dc34492078be5f7e23fa69a1bbaf9.jpg\n",
      "203fe7ee751a1e96230947262137f9c4.jpg\n",
      "66009f5aec6716d5ae8705dae40cd366.jpg\n",
      "1eafad9daee5faac13b4dcfe3e2a0f57.jpg\n",
      "030b7ee9e98ad5927110d425ab28f9d6.jpg\n",
      "541d164a3e2d158bf14419b87013a3cf.jpg\n",
      "f4849396f6d7eefe0c439d7b870b4432.jpg\n",
      "e6a85bd62940c23f7d00492b0fd43ae8.jpg\n",
      "ad2a71e7109f66297e06e7611da5f905.jpg\n",
      "0fe29d4644ec5e0cad9ced76dd31678d.jpg\n",
      "638d5e2467dd48c5206177a5009701ec.jpg\n",
      "42643b206bbd9cfe3d03a78d8bbf50da.jpg\n",
      "5b39225f26117dc6d197f786cc5ee73c.jpg\n",
      "2c49feb07d45ec5eb60cd4212b54b043.jpg\n",
      "ac03201ee84cc3523a83f19abacb6689.jpg\n",
      "474cdba96346829e30ba26530a7743db.jpg\n",
      "fc12ae4e0555eb271656625a0834645e.jpg\n",
      "sjinianbright.jpg\n",
      "100748yqpgje4yp1ezjmso.jpg\n",
      "141512qgvv2md56zmmxhjk.jpg\n",
      "142029dn77v4f3753pf775.jpg\n",
      "currykid.jpg\n",
      "142401u6ddb1d06j1vfd0e.jpg\n",
      "142659fjdjawoz0xxqum2u.png\n",
      "142925dkku9zz5v1r0kao0.jpg\n",
      "d21d0b6072a51f1038680e7cc2127208.jpg\n",
      "ef920df54a5fc53bad8193f605bbe916.jpg\n",
      "0bc4095434d3b5ecf9a5fd1302b48bba.jpg\n",
      "d6b58d4c496c23bba2b82b6e9c1c00ea.jpg\n",
      "bc69ec9bcd97f53c44ebf4878b81d93c.jpg\n",
      "c5eebfb2cd9b8ff6a0034cc4b56d5f2f.jpg\n",
      "aXNTwfht.png\n",
      "a03a012a1ace08a26b7e22e82cf2ce8c.jpg\n",
      "sDEJfhd.gif\n",
      "IPl4NjW.gif\n",
      "qLTpZKN.jpg\n",
      "Chatjo1.png\n",
      "o1u5cDrq.jpg\n",
      "wDKJ5N2q.jpg\n",
      "CjUTDfyq.jpg\n",
      "131523araljjj40ljgzrjp.jpg.thumb.jpg\n",
      "1111142301c61cc54cd7a1042a.jpg\n",
      "1104032050ee1abecf7d7e9da0.jpg\n",
      "1613145.jpg\n",
      "ec5e330d15ec824567104a6a8e77aa29.jpg\n",
      "f0c391ee5927e7543b49c8d5a460502a.jpg\n",
      "ef49049402135fd84261cfcb56e14185.jpg\n",
      "ead90c1a5965a0ebe3cf37214955a5d5.jpg\n",
      "f6fda910bce1b414dde112bb7fa6614f.jpg\n",
      "d77b699b6d65f8c773cd2305f4a64299.jpg\n",
      "0068d8657e9124edb738550072f92762.jpg\n",
      "o088tke.png\n",
      "3VIkrgD.png\n",
      "wnE9Ny2.png\n",
      "pOp2YYn.png\n",
      "IGx0ETY.png\n",
      "5md1Qrn.png\n",
      "16s4U1s.png\n",
      "RX35y7D.png\n",
      "PTAjGti.jpg\n",
      "3g9l0qk.jpg\n",
      "3rPyJjm.jpg\n",
      "rS0Zzmn.jpg\n",
      "2dkc48Y.jpg\n",
      "ECD286k.jpg\n",
      "CclhWgE.jpg\n",
      "Gr6cmvQ.jpg\n",
      "wHQg0E5.png\n",
      "NBvsr7X.png\n",
      "ad_close.gif\n",
      "neUvEC6.jpg\n"
     ]
    },
    {
     "name": "stderr",
     "output_type": "stream",
     "text": [
      "c:\\python27\\lib\\site-packages\\bs4\\__init__.py:166: UserWarning: No parser was explicitly specified, so I'm using the best available HTML parser for this system (\"html.parser\"). This usually isn't a problem, but if you run this code on another system, or in a different virtual environment, it may use a different parser and behave differently.\n",
      "\n",
      "To get rid of this warning, change this:\n",
      "\n",
      " BeautifulSoup([your markup])\n",
      "\n",
      "to this:\n",
      "\n",
      " BeautifulSoup([your markup], \"html.parser\")\n",
      "\n",
      "  markup_type=markup_type))\n"
     ]
    }
   ],
   "source": [
    "#? from bs4 import BeautifulSoup as bs \n",
    "#? requests.get('http://ck101.com/', headers = headers)\n",
    "#? bs(res.text)\n",
    "#? soup.select('img')\n",
    "#? print img.get('src').split('/')[-1]\n",
    "import requests\n",
    "from bs4 import BeautifulSoup as bs \n",
    "\n",
    "headers  = {'User-Agent':'Mozilla/5.0 (Windows NT 6.1; WOW64) AppleWebKit/537.36 (KHTML, like Gecko) Chrome/44.0.2403.262 Safari/537.36'}\n",
    "res = requests.get('http://ck101.com/', headers = headers)\n",
    "soup = bs(res.text)\n",
    "for img in soup.select('img'):\n",
    "    if 'png' in img.get('src') or 'jpg' in img.get('src') or 'gif' in img.get('src'):\n",
    "        print img.get('src').split('/')[-1]"
   ]
  },
  {
   "cell_type": "code",
   "execution_count": 26,
   "metadata": {
    "collapsed": false
   },
   "outputs": [
    {
     "ename": "error",
     "evalue": "[Errno 10054] 遠端主機已強制關閉一個現存的連線。",
     "output_type": "error",
     "traceback": [
      "\u001b[1;31m---------------------------------------------------------------------------\u001b[0m",
      "\u001b[1;31merror\u001b[0m                                     Traceback (most recent call last)",
      "\u001b[1;32m<ipython-input-26-a3e8534c09fc>\u001b[0m in \u001b[0;36m<module>\u001b[1;34m()\u001b[0m\n\u001b[0;32m     14\u001b[0m         \u001b[0mresponse\u001b[0m \u001b[1;33m=\u001b[0m \u001b[0mrequests\u001b[0m\u001b[1;33m.\u001b[0m\u001b[0mget\u001b[0m\u001b[1;33m(\u001b[0m\u001b[0mimg\u001b[0m\u001b[1;33m.\u001b[0m\u001b[0mget\u001b[0m\u001b[1;33m(\u001b[0m\u001b[1;34m'src'\u001b[0m\u001b[1;33m)\u001b[0m\u001b[1;33m,\u001b[0m \u001b[0mheaders\u001b[0m \u001b[1;33m=\u001b[0m \u001b[0mheaders\u001b[0m\u001b[1;33m,\u001b[0m \u001b[0mstream\u001b[0m\u001b[1;33m=\u001b[0m\u001b[0mTrue\u001b[0m\u001b[1;33m)\u001b[0m\u001b[1;33m\u001b[0m\u001b[0m\n\u001b[0;32m     15\u001b[0m         \u001b[1;32mwith\u001b[0m \u001b[0mopen\u001b[0m\u001b[1;33m(\u001b[0m\u001b[0mfname\u001b[0m\u001b[1;33m,\u001b[0m \u001b[1;34m'wb'\u001b[0m\u001b[1;33m)\u001b[0m \u001b[1;32mas\u001b[0m \u001b[0mout_file\u001b[0m\u001b[1;33m:\u001b[0m\u001b[1;33m\u001b[0m\u001b[0m\n\u001b[1;32m---> 16\u001b[1;33m             \u001b[0mshutil\u001b[0m\u001b[1;33m.\u001b[0m\u001b[0mcopyfileobj\u001b[0m\u001b[1;33m(\u001b[0m\u001b[0mresponse\u001b[0m\u001b[1;33m.\u001b[0m\u001b[0mraw\u001b[0m\u001b[1;33m,\u001b[0m \u001b[0mout_file\u001b[0m\u001b[1;33m)\u001b[0m\u001b[1;33m\u001b[0m\u001b[0m\n\u001b[0m\u001b[0;32m     17\u001b[0m         \u001b[1;32mdel\u001b[0m \u001b[0mresponse\u001b[0m\u001b[1;33m\u001b[0m\u001b[0m\n",
      "\u001b[1;32mc:\\python27\\lib\\shutil.pyc\u001b[0m in \u001b[0;36mcopyfileobj\u001b[1;34m(fsrc, fdst, length)\u001b[0m\n\u001b[0;32m     47\u001b[0m     \u001b[1;34m\"\"\"copy data from file-like object fsrc to file-like object fdst\"\"\"\u001b[0m\u001b[1;33m\u001b[0m\u001b[0m\n\u001b[0;32m     48\u001b[0m     \u001b[1;32mwhile\u001b[0m \u001b[1;36m1\u001b[0m\u001b[1;33m:\u001b[0m\u001b[1;33m\u001b[0m\u001b[0m\n\u001b[1;32m---> 49\u001b[1;33m         \u001b[0mbuf\u001b[0m \u001b[1;33m=\u001b[0m \u001b[0mfsrc\u001b[0m\u001b[1;33m.\u001b[0m\u001b[0mread\u001b[0m\u001b[1;33m(\u001b[0m\u001b[0mlength\u001b[0m\u001b[1;33m)\u001b[0m\u001b[1;33m\u001b[0m\u001b[0m\n\u001b[0m\u001b[0;32m     50\u001b[0m         \u001b[1;32mif\u001b[0m \u001b[1;32mnot\u001b[0m \u001b[0mbuf\u001b[0m\u001b[1;33m:\u001b[0m\u001b[1;33m\u001b[0m\u001b[0m\n\u001b[0;32m     51\u001b[0m             \u001b[1;32mbreak\u001b[0m\u001b[1;33m\u001b[0m\u001b[0m\n",
      "\u001b[1;32mc:\\python27\\lib\\site-packages\\requests\\packages\\urllib3\\response.pyc\u001b[0m in \u001b[0;36mread\u001b[1;34m(self, amt, decode_content, cache_content)\u001b[0m\n\u001b[0;32m    241\u001b[0m                 \u001b[1;32melse\u001b[0m\u001b[1;33m:\u001b[0m\u001b[1;33m\u001b[0m\u001b[0m\n\u001b[0;32m    242\u001b[0m                     \u001b[0mcache_content\u001b[0m \u001b[1;33m=\u001b[0m \u001b[0mFalse\u001b[0m\u001b[1;33m\u001b[0m\u001b[0m\n\u001b[1;32m--> 243\u001b[1;33m                     \u001b[0mdata\u001b[0m \u001b[1;33m=\u001b[0m \u001b[0mself\u001b[0m\u001b[1;33m.\u001b[0m\u001b[0m_fp\u001b[0m\u001b[1;33m.\u001b[0m\u001b[0mread\u001b[0m\u001b[1;33m(\u001b[0m\u001b[0mamt\u001b[0m\u001b[1;33m)\u001b[0m\u001b[1;33m\u001b[0m\u001b[0m\n\u001b[0m\u001b[0;32m    244\u001b[0m                     \u001b[1;32mif\u001b[0m \u001b[0mamt\u001b[0m \u001b[1;33m!=\u001b[0m \u001b[1;36m0\u001b[0m \u001b[1;32mand\u001b[0m \u001b[1;32mnot\u001b[0m \u001b[0mdata\u001b[0m\u001b[1;33m:\u001b[0m  \u001b[1;31m# Platform-specific: Buggy versions of Python.\u001b[0m\u001b[1;33m\u001b[0m\u001b[0m\n\u001b[0;32m    245\u001b[0m                         \u001b[1;31m# Close the connection when no data is returned\u001b[0m\u001b[1;33m\u001b[0m\u001b[1;33m\u001b[0m\u001b[0m\n",
      "\u001b[1;32mc:\\python27\\lib\\httplib.pyc\u001b[0m in \u001b[0;36mread\u001b[1;34m(self, amt)\u001b[0m\n\u001b[0;32m    610\u001b[0m         \u001b[1;31m# connection, and the user is reading more bytes than will be provided\u001b[0m\u001b[1;33m\u001b[0m\u001b[1;33m\u001b[0m\u001b[0m\n\u001b[0;32m    611\u001b[0m         \u001b[1;31m# (for example, reading in 1k chunks)\u001b[0m\u001b[1;33m\u001b[0m\u001b[1;33m\u001b[0m\u001b[0m\n\u001b[1;32m--> 612\u001b[1;33m         \u001b[0ms\u001b[0m \u001b[1;33m=\u001b[0m \u001b[0mself\u001b[0m\u001b[1;33m.\u001b[0m\u001b[0mfp\u001b[0m\u001b[1;33m.\u001b[0m\u001b[0mread\u001b[0m\u001b[1;33m(\u001b[0m\u001b[0mamt\u001b[0m\u001b[1;33m)\u001b[0m\u001b[1;33m\u001b[0m\u001b[0m\n\u001b[0m\u001b[0;32m    613\u001b[0m         \u001b[1;32mif\u001b[0m \u001b[1;32mnot\u001b[0m \u001b[0ms\u001b[0m \u001b[1;32mand\u001b[0m \u001b[0mamt\u001b[0m\u001b[1;33m:\u001b[0m\u001b[1;33m\u001b[0m\u001b[0m\n\u001b[0;32m    614\u001b[0m             \u001b[1;31m# Ideally, we would raise IncompleteRead if the content-length\u001b[0m\u001b[1;33m\u001b[0m\u001b[1;33m\u001b[0m\u001b[0m\n",
      "\u001b[1;32mc:\\python27\\lib\\socket.pyc\u001b[0m in \u001b[0;36mread\u001b[1;34m(self, size)\u001b[0m\n\u001b[0;32m    382\u001b[0m                 \u001b[1;31m# fragmentation issues on many platforms.\u001b[0m\u001b[1;33m\u001b[0m\u001b[1;33m\u001b[0m\u001b[0m\n\u001b[0;32m    383\u001b[0m                 \u001b[1;32mtry\u001b[0m\u001b[1;33m:\u001b[0m\u001b[1;33m\u001b[0m\u001b[0m\n\u001b[1;32m--> 384\u001b[1;33m                     \u001b[0mdata\u001b[0m \u001b[1;33m=\u001b[0m \u001b[0mself\u001b[0m\u001b[1;33m.\u001b[0m\u001b[0m_sock\u001b[0m\u001b[1;33m.\u001b[0m\u001b[0mrecv\u001b[0m\u001b[1;33m(\u001b[0m\u001b[0mleft\u001b[0m\u001b[1;33m)\u001b[0m\u001b[1;33m\u001b[0m\u001b[0m\n\u001b[0m\u001b[0;32m    385\u001b[0m                 \u001b[1;32mexcept\u001b[0m \u001b[0merror\u001b[0m\u001b[1;33m,\u001b[0m \u001b[0me\u001b[0m\u001b[1;33m:\u001b[0m\u001b[1;33m\u001b[0m\u001b[0m\n\u001b[0;32m    386\u001b[0m                     \u001b[1;32mif\u001b[0m \u001b[0me\u001b[0m\u001b[1;33m.\u001b[0m\u001b[0margs\u001b[0m\u001b[1;33m[\u001b[0m\u001b[1;36m0\u001b[0m\u001b[1;33m]\u001b[0m \u001b[1;33m==\u001b[0m \u001b[0mEINTR\u001b[0m\u001b[1;33m:\u001b[0m\u001b[1;33m\u001b[0m\u001b[0m\n",
      "\u001b[1;31merror\u001b[0m: [Errno 10054] 遠端主機已強制關閉一個現存的連線。"
     ]
    }
   ],
   "source": [
    "#?????\n",
    "#?????\n",
    "#?????\n",
    "import requests\n",
    "import shutil\n",
    "from bs4 import BeautifulSoup as bs \n",
    "\n",
    "headers  = {'User-Agent':'Mozilla/5.0 (Windows NT 6.1; WOW64) AppleWebKit/537.36 (KHTML, like Gecko) Chrome/44.0.2403.262 Safari/537.36'}\n",
    "res = requests.get('http://ck101.com/', headers = headers)\n",
    "soup = bs(res.text)\n",
    "\n",
    "for img in soup.select('img'):\n",
    "    fname = img.get('src').split('/')[-1]\n",
    "    extension = fname.split('.')[1]\n",
    "    if  extension in ['png', 'gif', 'jpg']:\n",
    "        #print fname\n",
    "        response = requests.get(img.get('src'), headers = headers, stream=True)\n",
    "        with open(fname, 'wb') as out_file:\n",
    "            shutil.copyfileobj(response.raw, out_file)\n",
    "        del response"
   ]
  },
  {
   "cell_type": "code",
   "execution_count": 47,
   "metadata": {
    "collapsed": false
   },
   "outputs": [
    {
     "name": "stdout",
     "output_type": "stream",
     "text": [
      "['What', 'is', 'your', 'name?']\n",
      "What-is-your-name?\n",
      "123-456-789\n"
     ]
    },
    {
     "data": {
      "text/plain": [
       "'123~456~789'"
      ]
     },
     "execution_count": 47,
     "metadata": {},
     "output_type": "execute_result"
    }
   ],
   "source": [
    "import string #string 小寫\n",
    "a='What is your name?'\n",
    "print a.split()\n",
    "print string.join(a.split(),'-')\n",
    "b='123 456 789'\n",
    "print '-'.join(b.split())\n",
    "string.join(b.split(),'~')  #?WHY"
   ]
  },
  {
   "cell_type": "code",
   "execution_count": 76,
   "metadata": {
    "collapsed": false
   },
   "outputs": [
    {
     "data": {
      "text/plain": [
       "('Try the python whatever you thought',\n",
       " 'Try the py',\n",
       " 'Try the python whatever y',\n",
       " 'p')"
      ]
     },
     "execution_count": 76,
     "metadata": {},
     "output_type": "execute_result"
    }
   ],
   "source": [
    "#notice the method of using  ,\\\n",
    "s='Try the python whatever you thought' \n",
    "s[:],\\\n",
    "s[:10],\\\n",
    "s[:-10],\\\n",
    "s[8],\\"
   ]
  },
  {
   "cell_type": "code",
   "execution_count": 78,
   "metadata": {
    "collapsed": false
   },
   "outputs": [
    {
     "name": "stdout",
     "output_type": "stream",
     "text": [
      "olleh\n",
      "True\n"
     ]
    }
   ],
   "source": [
    "s = 'hello'\n",
    "# for(i = len(s); i> 0 ; i--)\n",
    "print s[::-1]\n",
    "a = 'abcdedcba'\n",
    "print a==a[::-1] "
   ]
  },
  {
   "cell_type": "code",
   "execution_count": 96,
   "metadata": {
    "collapsed": false
   },
   "outputs": [
    {
     "name": "stdout",
     "output_type": "stream",
     "text": [
      "All Users\n",
      "BigData\n",
      "Default\n",
      "Default User\n",
      "desktop.ini\n",
      "MsDtsServer110\n",
      "MSSQLFDLauncher\n",
      "MSSQLSERVER\n",
      "MSSQLServerOLAPService\n",
      "Public\n",
      "ReportServer\n",
      "SQLSERVERAGENT\n"
     ]
    }
   ],
   "source": [
    "#('/')BigData上一層資料夾的file\n",
    "#('./')BigData下一層資料夾的file\n",
    "#('../')BigData本層資料夾的file\n",
    "import os\n",
    "for f in os.listdir('../'):\n",
    "    print f"
   ]
  },
  {
   "cell_type": "code",
   "execution_count": 133,
   "metadata": {
    "collapsed": false
   },
   "outputs": [
    {
     "name": "stdout",
     "output_type": "stream",
     "text": [
      "030b7ee9e98ad5927110d425ab28f9d6.jpg\n",
      "0f4Ecge.jpg\n",
      "0fe29d4644ec5e0cad9ced76dd31678d.jpg\n",
      "0ff9187b9fd6789b57e8f230ca2c7611.jpg\n",
      "100748yqpgje4yp1ezjmso.jpg\n",
      "1320c12713a6318cfca7dda26c97d5d0.jpg\n",
      "141512qgvv2md56zmmxhjk.jpg\n",
      "142029dn77v4f3753pf775.jpg\n",
      "142401u6ddb1d06j1vfd0e.jpg\n",
      "1eafad9daee5faac13b4dcfe3e2a0f57.jpg\n",
      "203fe7ee751a1e96230947262137f9c4.jpg\n",
      "20f4ec8f603c098afa699eb8cf33e119.jpg\n",
      "2b09adbbdb5cd4cc55e5d2be25f2d378.jpg\n",
      "2c49feb07d45ec5eb60cd4212b54b043.jpg\n",
      "3ad2a25a33a30c23c3aeaa1a8584eeab.jpg\n",
      "3c1e02b0fd4a4bd3fc6d9b58e68dfc70.jpg\n",
      "42643b206bbd9cfe3d03a78d8bbf50da.jpg\n",
      "42f3094bb9b740dabc6b5da62590553d.jpg\n",
      "474cdba96346829e30ba26530a7743db.jpg\n",
      "4e42438d98be8734a8d5d3610b7eb270.jpg\n",
      "533ba123172ee312706c67f67a942f41.jpg\n",
      "541d164a3e2d158bf14419b87013a3cf.jpg\n",
      "5b39225f26117dc6d197f786cc5ee73c.jpg\n",
      "638d5e2467dd48c5206177a5009701ec.jpg\n",
      "66009f5aec6716d5ae8705dae40cd366.jpg\n",
      "680e11c9faf75337faeff63f8e3d6e4b.jpg\n",
      "6ac93c3a074975a563212fce56f856ed.jpg\n",
      "6bd03a045b1ab85f3210155dd51e0a16.jpg\n",
      "7e7be0894eab706ef8b4406da7861c6c.jpg\n",
      "7fe8cc9d53bbd826038d650d78549a7e.jpg\n",
      "82cb0b2badd932563fce2df0359337ee.jpg\n",
      "874b734cd73d89f345eed0650b560225.jpg\n",
      "8f34b6a8b65b4bbfc53f91c59df4d81c.jpg\n",
      "8fdNFjJ.jpg\n",
      "a0650406cf297d16f9fdebdabac8253f.jpg\n",
      "a41ce17751ca1ba781690a5db07d10ff.jpg\n",
      "ac03201ee84cc3523a83f19abacb6689.jpg\n",
      "ad2a71e7109f66297e06e7611da5f905.jpg\n",
      "af04b0d86aa66e69b66a8ff022ba84a0.jpg\n",
      "b785f2996cc7c69b7cb1490a5e911de7.jpg\n",
      "b9f6a5221b3abbeeea23c0e87a6e3256.jpg\n",
      "c41622adf98b5577375f4f77c0a8a97a.jpg\n",
      "c4c31b1b9418088d18203936259c83c1.jpg\n",
      "c6896ad8e6eb7c702894ebd8b1ed9113.jpg\n",
      "currykid.jpg\n",
      "d94b03189bd5a837b32dc28083605cdb.jpg\n",
      "dbd6cd23a706ccda8b118931df219157.jpg\n",
      "e29b33bdd8eb6838097847a75d24390e.jpg\n",
      "e6a85bd62940c23f7d00492b0fd43ae8.jpg\n",
      "Es2bPUG.jpg\n",
      "f2961c218035cca43dd39f5f63c83c41.jpg\n",
      "f4849396f6d7eefe0c439d7b870b4432.jpg\n",
      "f489c2cbfa76967443deb36bc823d086.jpg\n",
      "f4bccc43dc8f53b33d079cb09663dc6a.jpg\n",
      "fc12ae4e0555eb271656625a0834645e.jpg\n",
      "ff388f56975dae47645aec675c96c653.jpg\n",
      "ff5dc34492078be5f7e23fa69a1bbaf9.jpg\n",
      "Fvv6Tkt.jpg\n",
      "hsTwBsW.jpg\n",
      "HvgIz7T.jpg\n",
      "sjinianbright.jpg\n",
      "TllQLDo.jpg\n",
      "wISUMxX.jpg\n"
     ]
    }
   ],
   "source": [
    "#<Notice>#\n",
    "# import os\n",
    "# for f in os.listdir('./'):\n",
    "#     if f.split('.')[-1]=='jpg':\n",
    "#           print f\n",
    "\n",
    "# import os\n",
    "# for f in os.listdir('./'):\n",
    "#     if 'jpg' in f:\n",
    "#         print f\n"
   ]
  },
  {
   "cell_type": "code",
   "execution_count": 114,
   "metadata": {
    "collapsed": false
   },
   "outputs": [
    {
     "name": "stdout",
     "output_type": "stream",
     "text": [
      "<method-wrapper '__str__' of str object at 0x05078EA8>\n"
     ]
    }
   ],
   "source": [
    "a='132'\n",
    "print a.__str__"
   ]
  },
  {
   "cell_type": "code",
   "execution_count": 122,
   "metadata": {
    "collapsed": false
   },
   "outputs": [
    {
     "name": "stdout",
     "output_type": "stream",
     "text": [
      "['\\xe6', '\\x88', '\\x91', '\\xe5', '\\xbe', '\\x88', '\\xe5', '\\xa5', '\\xbd']\n",
      "['g', 'o', 'o', 'd', '-', 'm', 'o', 'r', 'n', 'i', 'n', 'g', '!']\n",
      "['aa', 1]\n"
     ]
    }
   ],
   "source": [
    "print list('我很好')\n",
    "print list('good-morning!')\n",
    "print list(('aa',1))\n"
   ]
  },
  {
   "cell_type": "code",
   "execution_count": 131,
   "metadata": {
    "collapsed": false
   },
   "outputs": [
    {
     "name": "stdout",
     "output_type": "stream",
     "text": [
      "Help on built-in function insert:\n",
      "\n",
      "insert(...)\n",
      "    L.insert(index, object) -- insert object before index\n",
      "\n",
      "None\n",
      "Help on built-in function listdir in module nt:\n",
      "\n",
      "listdir(...)\n",
      "    listdir(path) -> list_of_strings\n",
      "    \n",
      "    Return a list containing the names of the entries in the directory.\n",
      "    \n",
      "        path: path of directory to list\n",
      "    \n",
      "    The list is in arbitrary order.  It does not include the special\n",
      "    entries '.' and '..' even if they are present in the directory.\n",
      "\n",
      "None\n"
     ]
    }
   ],
   "source": [
    "a=[1,2,3,5,785,32,8962,8,9,2,8,4,9,2,96,1,6]\n",
    "print help(a.insert)\n",
    "print help(os.listdir)"
   ]
  },
  {
   "cell_type": "code",
   "execution_count": null,
   "metadata": {
    "collapsed": true
   },
   "outputs": [],
   "source": []
  }
 ],
 "metadata": {
  "kernelspec": {
   "display_name": "Python 2",
   "language": "python",
   "name": "python2"
  },
  "language_info": {
   "codemirror_mode": {
    "name": "ipython",
    "version": 2
   },
   "file_extension": ".py",
   "mimetype": "text/x-python",
   "name": "python",
   "nbconvert_exporter": "python",
   "pygments_lexer": "ipython2",
   "version": "2.7.10"
  }
 },
 "nbformat": 4,
 "nbformat_minor": 0
}
